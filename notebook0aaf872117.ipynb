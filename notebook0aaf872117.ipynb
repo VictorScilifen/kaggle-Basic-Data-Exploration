{
 "cells": [
  {
   "cell_type": "code",
   "execution_count": 1,
   "id": "1b713ef1",
   "metadata": {
    "_cell_guid": "b1076dfc-b9ad-4769-8c92-a6c4dae69d19",
    "_uuid": "8f2839f25d086af736a60e9eeb907d3b93b6e0e5",
    "execution": {
     "iopub.execute_input": "2022-04-07T07:51:27.956549Z",
     "iopub.status.busy": "2022-04-07T07:51:27.955777Z",
     "iopub.status.idle": "2022-04-07T07:51:27.962283Z",
     "shell.execute_reply": "2022-04-07T07:51:27.961315Z",
     "shell.execute_reply.started": "2022-04-07T07:36:52.110846Z"
    },
    "papermill": {
     "duration": 0.02551,
     "end_time": "2022-04-07T07:51:27.962516",
     "exception": false,
     "start_time": "2022-04-07T07:51:27.937006",
     "status": "completed"
    },
    "tags": []
   },
   "outputs": [],
   "source": [
    "# This Python 3 environment comes with many helpful analytics libraries installed\n",
    "# It is defined by the kaggle/python Docker image: https://github.com/kaggle/docker-python\n",
    "# For example, here's several helpful packages to load\n",
    "\n",
    "import numpy as np # linear algebra\n",
    "import pandas as pd # data processing, CSV file I/O (e.g. pd.read_csv)\n",
    "\n",
    "# Input data files are available in the read-only \"../input/\" directory\n",
    "# For example, running this (by clicking run or pressing Shift+Enter) will list all files under the input directory\n",
    "\n",
    "import os\n",
    "for dirname, _, filenames in os.walk('/kaggle/input'):\n",
    "    for filename in filenames:\n",
    "        print(os.path.join(dirname, filename))\n",
    "\n",
    "# You can write up to 20GB to the current directory (/kaggle/working/) that gets preserved as output when you create a version using \"Save & Run All\" \n",
    "# You can also write temporary files to /kaggle/temp/, but they won't be saved outside of the current session"
   ]
  },
  {
   "cell_type": "code",
   "execution_count": 2,
   "id": "c2ae8354",
   "metadata": {
    "execution": {
     "iopub.execute_input": "2022-04-07T07:51:27.976941Z",
     "iopub.status.busy": "2022-04-07T07:51:27.974679Z",
     "iopub.status.idle": "2022-04-07T07:51:27.981198Z",
     "shell.execute_reply": "2022-04-07T07:51:27.979516Z",
     "shell.execute_reply.started": "2022-04-07T07:50:40.821530Z"
    },
    "papermill": {
     "duration": 0.01441,
     "end_time": "2022-04-07T07:51:27.981438",
     "exception": false,
     "start_time": "2022-04-07T07:51:27.967028",
     "status": "completed"
    },
    "tags": []
   },
   "outputs": [
    {
     "name": "stdout",
     "output_type": "stream",
     "text": [
      "hello world\n"
     ]
    }
   ],
   "source": [
    "print(\"hello world\")"
   ]
  }
 ],
 "metadata": {
  "kernelspec": {
   "display_name": "Python 3",
   "language": "python",
   "name": "python3"
  },
  "language_info": {
   "codemirror_mode": {
    "name": "ipython",
    "version": 3
   },
   "file_extension": ".py",
   "mimetype": "text/x-python",
   "name": "python",
   "nbconvert_exporter": "python",
   "pygments_lexer": "ipython3",
   "version": "3.7.12"
  },
  "papermill": {
   "default_parameters": {},
   "duration": 15.8036,
   "end_time": "2022-04-07T07:51:29.003974",
   "environment_variables": {},
   "exception": null,
   "input_path": "__notebook__.ipynb",
   "output_path": "__notebook__.ipynb",
   "parameters": {},
   "start_time": "2022-04-07T07:51:13.200374",
   "version": "2.3.3"
  }
 },
 "nbformat": 4,
 "nbformat_minor": 5
}
